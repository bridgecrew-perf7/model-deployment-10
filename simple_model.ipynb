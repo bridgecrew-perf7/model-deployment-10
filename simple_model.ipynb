{
  "nbformat": 4,
  "nbformat_minor": 0,
  "metadata": {
    "colab": {
      "name": "Data-Skripsi.ipynb",
      "provenance": []
    },
    "kernelspec": {
      "name": "python3",
      "display_name": "Python 3"
    },
    "language_info": {
      "name": "python"
    }
  },
  "cells": [
    {
      "cell_type": "code",
      "metadata": {
        "id": "OUq68-XiNSAQ"
      },
      "source": [
        "import pandas as pd\n",
        "import numpy as np\n",
        "from sklearn.linear_model import LinearRegression\n",
        "from sklearn.model_selection import train_test_split\n",
        "from sklearn.metrics import accuracy_score\n",
        "from sklearn.metrics import mean_squared_error\n",
        "import matplotlib.pyplot as plt\n",
        "import pickle"
      ],
      "execution_count": 2,
      "outputs": []
    },
    {
      "cell_type": "code",
      "metadata": {
        "id": "qGH-aWWyQJhM"
      },
      "source": [
        "attenuation = [[57.59], [57.59], [57.44], [57.16], [57.16], [57.02], [57.02], [56.88], [56.88], [56.49], [56.36], [56.23], [55.86], [55.62], [55.62], [55.39], [55.28], [55.28], [54.94], [54.73]]\n",
        "sugar_content = [8.4, 8.5, 8.0, 9.0, 9.8, 7.8, 8.5, 9.3, 9.7, 8.0, 8.7, 9.5, 9.6, 10.5, 11.0, 10.7, 11.2, 11.8, 11.0, 11.7]\n",
        "X_train, X_test, y_train, y_test = train_test_split(attenuation, sugar_content, test_size=.4, random_state=42)\n",
        "reg = LinearRegression().fit(X_train, y_train)"
      ],
      "execution_count": 3,
      "outputs": []
    },
    {
      "cell_type": "code",
      "metadata": {
        "colab": {
          "base_uri": "https://localhost:8080/"
        },
        "id": "YT4qmuHJhFDe",
        "outputId": "8f361d73-a201-4238-85bd-559890208f1d"
      },
      "source": [
        "y_pred = reg.predict(X_test)\n",
        "mean_squared_error(y_test, y_pred)"
      ],
      "execution_count": 4,
      "outputs": [
        {
          "output_type": "execute_result",
          "data": {
            "text/plain": [
              "0.4029942468949408"
            ]
          },
          "metadata": {},
          "execution_count": 4
        }
      ]
    },
    {
      "cell_type": "code",
      "metadata": {
        "colab": {
          "base_uri": "https://localhost:8080/",
          "height": 268
        },
        "id": "XKLMKl4fjnks",
        "outputId": "aa4f0a25-84f8-4a1b-c254-de00af74a321"
      },
      "source": [
        "plt.scatter(attenuation, sugar_content)\n",
        "plt.show()"
      ],
      "execution_count": 4,
      "outputs": [
        {
          "output_type": "display_data",
          "data": {
            "image/png": "[encoded data removed]",
            "text/plain": [
              "<Figure size 432x288 with 1 Axes>"
            ]
          },
          "metadata": {
            "needs_background": "light"
          }
        }
      ]
    },
    {
      "cell_type": "code",
      "metadata": {
        "id": "0O9WZi4hkbwb"
      },
      "source": [
        "pickle.dump(reg, open('model.pkl', 'wb'))"
      ],
      "execution_count": 5,
      "outputs": []
    }
  ]
}